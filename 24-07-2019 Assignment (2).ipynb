{
 "cells": [
  {
   "cell_type": "markdown",
   "metadata": {},
   "source": [
    "### Define a function to identity the number of times a substring is repeating in a given string\n",
    "\n",
    "substringCount('str', 'substr') -> 1\n",
    "\n",
    "substringCount('1234567891122334455', '3') -> 3\n",
    "\n",
    "substringCount('abccddccc', 'cc') -> 3\n",
    "\n",
    "substringCount('aaaaaaa', 'aaa' ) -> "
   ]
  },
  {
   "cell_type": "code",
   "execution_count": 8,
   "metadata": {},
   "outputs": [
    {
     "name": "stdout",
     "output_type": "stream",
     "text": [
      "1\n"
     ]
    }
   ],
   "source": [
    "string=\"substr\" # string in which occurrence will be checked\n",
    "print(string.count(\"str\"))# counts the number of times substring occurs in  \n",
    "# the given string and returns an integer "
   ]
  },
  {
   "cell_type": "code",
   "execution_count": 23,
   "metadata": {
    "scrolled": true
   },
   "outputs": [
    {
     "name": "stdout",
     "output_type": "stream",
     "text": [
      "3\n"
     ]
    }
   ],
   "source": [
    "#def substring()\n",
    "string=\"1234567891122334455\"\n",
    "print(string.count(\"3\"))"
   ]
  },
  {
   "cell_type": "code",
   "execution_count": 21,
   "metadata": {},
   "outputs": [
    {
     "name": "stdout",
     "output_type": "stream",
     "text": [
      "3\n"
     ]
    }
   ],
   "source": [
    "\n",
    "string=\"abccddcccc\"\n",
    "print(string.count(\"cc\"))"
   ]
  },
  {
   "cell_type": "code",
   "execution_count": 24,
   "metadata": {
    "scrolled": true
   },
   "outputs": [
    {
     "name": "stdout",
     "output_type": "stream",
     "text": [
      "2\n"
     ]
    }
   ],
   "source": [
    "string=\"aaaaaaa\"\n",
    "print(string.count(\"aaa\"))"
   ]
  },
  {
   "cell_type": "markdown",
   "metadata": {},
   "source": [
    "### Define a function to validate email addresses based on the following rules.\n",
    "\n",
    "Email should be in the format username@domain.extension\n",
    "username must start with an alphabet and can contain lowercase alphabet, digits, hyphen(-) and underscores( _ ).\n",
    "username must not contain special characters, uppercase letters, whitespaces.\n",
    "Length of username must be in the range (6, 16)\n",
    "Domain can only contain lowercase alphabet and digits with length in range (3, 10) . No special characters are allowed\n",
    "Extension can only contain lower case alphabet and its length must be in the range (2, 4)\n",
    "First line of input contains total number of email addresses n. Next n lines contain n email addresses.\n",
    "\n",
    "Output must contain contain n lines with either 'Valid' or 'Invalid'"
   ]
  },
  {
   "cell_type": "code",
   "execution_count": 1,
   "metadata": {},
   "outputs": [
    {
     "name": "stdout",
     "output_type": "stream",
     "text": [
      "enter emailabcdggg@dfgrty.com\n",
      "valid email\n"
     ]
    }
   ],
   "source": [
    "import re\n",
    "n=input('enter email')\n",
    "m=re.fullmatch('^[a-z][a-z0-9_]{6,16}@[a-z0-9]{3,10}.[a-z]{2,4}$',n)\n",
    "if m!=None:\n",
    "    print(\"valid email\")\n",
    "else:\n",
    "    print(\"invalid email\")"
   ]
  },
  {
   "cell_type": "markdown",
   "metadata": {},
   "source": [
    "### Define a function to merge the characters of two strings alternatively. \n",
    "The remaining characters of the longer string are printed in the same order at the end.\n",
    "\n",
    "mergeString('abcd', 'abcd') -> 'aabbccdd'\n",
    "mergeString('abc', '123456') -> 'a1b2c3456'\n",
    "mergeString('0', '123456') -> '0123456'"
   ]
  },
  {
   "cell_type": "code",
   "execution_count": 9,
   "metadata": {},
   "outputs": [
    {
     "data": {
      "text/plain": [
       "'a4b56789'"
      ]
     },
     "execution_count": 9,
     "metadata": {},
     "output_type": "execute_result"
    }
   ],
   "source": [
    "def combine(list1,list2):\n",
    "    lst =[]\n",
    "    str1=('')\n",
    "    len1=len(list1)\n",
    "    len2=len(list2)\n",
    "    for index in range (max(len1,len2)):\n",
    "        if index+1 <= len1:\n",
    "            lst +=[list1[index]]\n",
    "            str1=''.join(lst)\n",
    "        if index+1 <= len2:\n",
    "            lst += [list2[index]]\n",
    "            str1=''.join(lst)\n",
    "    return str1\n",
    "combine(\"ab\",'456789')"
   ]
  },
  {
   "cell_type": "code",
   "execution_count": null,
   "metadata": {},
   "outputs": [],
   "source": []
  }
 ],
 "metadata": {
  "kernelspec": {
   "display_name": "Python 3",
   "language": "python",
   "name": "python3"
  },
  "language_info": {
   "codemirror_mode": {
    "name": "ipython",
    "version": 3
   },
   "file_extension": ".py",
   "mimetype": "text/x-python",
   "name": "python",
   "nbconvert_exporter": "python",
   "pygments_lexer": "ipython3",
   "version": "3.7.3"
  }
 },
 "nbformat": 4,
 "nbformat_minor": 2
}
